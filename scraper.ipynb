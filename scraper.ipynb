{
 "cells": [
  {
   "cell_type": "markdown",
   "metadata": {},
   "source": [
    "# Ceneo Scraper"
   ]
  },
  {
   "cell_type": "markdown",
   "metadata": {},
   "source": [
    "# Biblioteki"
   ]
  },
  {
   "cell_type": "code",
   "execution_count": null,
   "metadata": {},
   "outputs": [],
   "source": [
    "import os\n",
    "import json\n",
    "import requests\n",
    "from bs4 import BeautifulSoup"
   ]
  },
  {
   "cell_type": "markdown",
   "metadata": {},
   "source": [
    "# Wysyłanie do serwera żądania dostepu do zasobu"
   ]
  },
  {
   "cell_type": "code",
   "execution_count": null,
   "metadata": {},
   "outputs": [],
   "source": [
    "product_id = \"94103927\"\n",
    "url = f\"https://www.ceneo.pl/{product_id}#tab=reviews\""
   ]
  },
  {
   "cell_type": "code",
   "execution_count": null,
   "metadata": {},
   "outputs": [],
   "source": [
    "all_opinions = []\n",
    "while (url):\n",
    "    response = requests.get(url)\n",
    "    page_dom = BeautifulSoup(response.text,\"html.parser\")\n",
    "    opinions = page_dom.select(\"div.js_product-review\")\n",
    "\n",
    "    for opinion  in opinions:\n",
    "        try:\n",
    "            single_opinion = {\n",
    "\n",
    "            \"opinion_id\" : opinion[\"data-entry-id\"],       \n",
    "            \"author\" : opinion.select_one(\"span.user-post__author-name\").text.strip(),\n",
    "            \"recommendation\" : opinion.select_one(\"span.user-post__author-recomendation > em\").text.strip(),\n",
    "            \"rating\" : opinion.select_one(\"span.user-post__score-count\").text.strip(),\n",
    "            \"content\" : opinion.select_one(\"div.user-post__text\").text.strip(),\n",
    "            \"pros\" :[p.text.strip() for p in opinion.select(\"div.review_feature_title-positives ~ div.review-feature_item\")],\n",
    "            \"cons\" : [c.text.strip() for c in opinion.select(\"div.review_feature_title-negatives ~ div.review-feature_item\")],\n",
    "            \"useful\" : opinion.select_one(\"button.vote-yes > span\").text.strip(),\n",
    "            \"useless\" : opinion.select_one(\"button.vote-no > span\").text.strip(),\n",
    "            \"publish_date\" : opinion.select_one(\"span.user-post__published > time:nth-child(1)\")[\"datetime\"].strip(),\n",
    "            \"purchase_date\" : opinion.select_one(\"span.user-post__published > time:nth-child(2)\")[\"datetime\"].strip()\n",
    "            }\n",
    "            all_opinions.append(single_opinion)\n",
    "        except (TypeError,AttributeError):\n",
    "            pass\n",
    "    try:    \n",
    "        url = \"https://www.ceneo.pl\"+page_dom.select_one(\"a.pagination__next\")[\"href\"].strip()\n",
    "    except TypeError:\n",
    "        url = None \n"
   ]
  },
  {
   "cell_type": "markdown",
   "metadata": {},
   "source": [
    "##Ekstracja składowych pojedynczej opinii\n",
    "\n",
    "|Składowa|Selektor|Zmienna|\n",
    "|--------|--------|-------|\n",
    "|id opinii|[\"data-entry-id\"]|opinion_id|\n",
    "|autor|span.user-post__author-name|author|\n",
    "|rekomendacja|span.user-post__author-recomendation > em|recommendation|\n",
    "|gwiazdki|span.user-post__score-count|rating|\n",
    "|treść|div.user-post__text|content|\n",
    "|lista zalet|div.review_feature_title-positives ~ div.review-feature_item|pros|\n",
    "|lista wad|div.review_feature_title-negatives ~ div.review-feature_item|cons|\n",
    "|dla ilu przydatna|button.vote-yes > span|useful|\n",
    "|dla ilu nieprzydatna|button.vote-no > span|useless|\n",
    "|data wystawienia|span.user-post__published > time:nth-child(1)[\"datetime\"]|publish_date|\n",
    "|data zakupu|span.user-post__published > time:nth-child(2)[\"datetime\"]|purchase_date|\n"
   ]
  },
  {
   "cell_type": "code",
   "execution_count": null,
   "metadata": {},
   "outputs": [],
   "source": [
    "if not os.path.exists(\"opinions\"):\n",
    "    os.mkdir(\"opinions\")\n",
    "\n",
    "with open(f\"opinions/{product_id}.json\", \"w\", encoding=\"UTF-8\") as jsonfile:\n",
    "    json.dump(all_opinions, jsonfile, indent =4, ensure_ascii=False)"
   ]
  },
  {
   "cell_type": "code",
   "execution_count": null,
   "metadata": {},
   "outputs": [],
   "source": [
    "print(len(all_opinions))"
   ]
  }
 ],
 "metadata": {
  "kernelspec": {
   "display_name": ".venv",
   "language": "python",
   "name": "python3"
  },
  "language_info": {
   "codemirror_mode": {
    "name": "ipython",
    "version": 3
   },
   "file_extension": ".py",
   "mimetype": "text/x-python",
   "name": "python",
   "nbconvert_exporter": "python",
   "pygments_lexer": "ipython3",
   "version": "3.12.0"
  }
 },
 "nbformat": 4,
 "nbformat_minor": 2
}
