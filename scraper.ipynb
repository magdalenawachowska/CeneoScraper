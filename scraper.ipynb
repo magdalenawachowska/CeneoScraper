{
 "cells": [
  {
   "cell_type": "code",
   "execution_count": null,
   "metadata": {},
   "outputs": [],
   "source": []
  },
  {
   "cell_type": "markdown",
   "metadata": {},
   "source": [
    "# Ceneo Scraper"
   ]
  },
  {
   "cell_type": "markdown",
   "metadata": {},
   "source": [
    "# Biblioteki"
   ]
  },
  {
   "cell_type": "code",
   "execution_count": null,
   "metadata": {},
   "outputs": [],
   "source": [
    "import requests\n",
    "from bs4 import BeautifulSoup"
   ]
  },
  {
   "cell_type": "markdown",
   "metadata": {},
   "source": [
    "# Wysyłanie do serwera żądania dostepu do zasobu"
   ]
  },
  {
   "cell_type": "code",
   "execution_count": null,
   "metadata": {},
   "outputs": [],
   "source": [
    "product_id = \"94103927\"\n",
    "url = f\"https://www.ceneo.pl/{product_id}#tab=reviews\"\n",
    "response = requests.get(url)\n",
    "response.status_code "
   ]
  },
  {
   "cell_type": "code",
   "execution_count": null,
   "metadata": {},
   "outputs": [],
   "source": [
    "page_dom = BeautifulSoup(response.text,\"html.parser\")\n",
    "print(type(page_dom))\n",
    "opinions = page_dom.select(\"div.js_product-review\")\n",
    "print(type(opinions))\n",
    "opinion = page_dom.select_one(\"div.js_product-review\")\n",
    "print(type(opinion))\n",
    "print(opinion)"
   ]
  },
  {
   "cell_type": "markdown",
   "metadata": {},
   "source": [
    "##Ekstracja składowych pojedynczej opinii\n",
    "\n",
    "|Składowa|Selektor|Zmienna|\n",
    "|--------|--------|-------|\n",
    "|id opinii|[\"data-entry-id\"]|opinion_id|\n",
    "|autor|span.user-post_author-name|author|\n",
    "|rekomendacja|span.user-post_author-recomendation > em|recommendation|\n",
    "|gwiazdki|span.user-post_score-count|rating|\n",
    "|treść|div.user-post_text|content|\n",
    "|lista zalet|div.review_feature_title-positives ~ div.review-feature_item|pros|\n",
    "|lista wad|div.review_feature_title-negatives ~ div.review-feature_item|cons|\n",
    "|dla ilu przydatna|button.vote-yes > span|useful|\n",
    "|dla ilu nieprzydatna|button.vote-no > span|useless|\n",
    "|data wystawienia|span.user-post_published > time:nth-child(1)[\"datetime\"]|publish_date|\n",
    "|data zakupu|span.user-post_published > time:nth-child(2)[\"datetime\"]|purchase_date|\n"
   ]
  },
  {
   "cell_type": "code",
   "execution_count": null,
   "metadata": {},
   "outputs": [],
   "source": [
    "opinion_id = opinion[\"data-entry-id\"]        #dorobic to - z select albo select one w zaleznosci czy lista\n",
    "author = opinion.select_one[\"user-post_author-name\"]\n",
    "recommendation = opinion[\"recommended\"]\n",
    "rating = opinion[\"user-post_score\"]\n",
    "content = opinion.select_one(\"\")\n",
    "pros = opinion.select_one(\"\")\n",
    "cons = opinion.select_one(\"\")\n",
    "useful = opinion.select_one(\"\")\n",
    "useless = opinion.select_one(\"\")\n",
    "publish_date = opinion[\"user-post_published\"]\n",
    "purchase_date = opinion.select_one(\"\")\n"
   ]
  }
 ],
 "metadata": {
  "kernelspec": {
   "display_name": ".venv",
   "language": "python",
   "name": "python3"
  },
  "language_info": {
   "codemirror_mode": {
    "name": "ipython",
    "version": 3
   },
   "file_extension": ".py",
   "mimetype": "text/x-python",
   "name": "python",
   "nbconvert_exporter": "python",
   "pygments_lexer": "ipython3",
   "version": "3.12.0"
  }
 },
 "nbformat": 4,
 "nbformat_minor": 2
}
